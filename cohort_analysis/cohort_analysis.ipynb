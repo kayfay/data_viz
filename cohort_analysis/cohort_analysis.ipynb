{
  "nbformat": 4,
  "nbformat_minor": 0,
  "metadata": {
    "colab": {
      "name": "cohort-analysis.ipynb",
      "version": "0.3.2",
      "provenance": [],
      "include_colab_link": true
    },
    "kernelspec": {
      "name": "python3",
      "display_name": "Python 3"
    }
  },
  "cells": [
    {
      "cell_type": "markdown",
      "metadata": {
        "id": "view-in-github",
        "colab_type": "text"
      },
      "source": [
        "<a href=\"https://colab.research.google.com/github/kayfay/data_viz/blob/master/cohort_analysis/cohort_analysis.ipynb\" target=\"_parent\"><img src=\"https://colab.research.google.com/assets/colab-badge.svg\" alt=\"Open In Colab\"/></a>"
      ]
    },
    {
      "cell_type": "markdown",
      "metadata": {
        "id": "tSkz5WuLVBFq",
        "colab_type": "text"
      },
      "source": [
        "A cohort is a group of users who share something in common,\n",
        "sign-up date, first purchase month, birth date, acquisition, or channel.\n",
        "Cohort anaysis tracks these groups over time to identify trends, repeat\n",
        "behaviors (purchases, engagement, amount spent, etc.), and monitor \n",
        "customer revenu and retention. \n",
        "\n",
        " * Grubhub ordering food, AirBnB booking stays.\n",
        " * Engagements; \"likes\" \"favorites\".\n",
        " * Stickiness: loyalty, (to keep current customers), for startups an \n",
        "indicator of product-market fit.\n",
        " * To visualize user retention/churn and a basic understanding of\n",
        "lifetime value.\n",
        "\n",
        "[Greg Reda: Cohort Analysis with Python](http://www.gregreda.com/2015/08/23/cohort-analysis-with-python/)"
      ]
    },
    {
      "cell_type": "markdown",
      "metadata": {
        "id": "9ylwmaN2bI2q",
        "colab_type": "text"
      },
      "source": [
        "# This section imports and creates Cohorts for the [Global Sales 2016 Data](https://docs.google.com/spreadsheets/d/1HcBg6Y42Qsytm7LazGD8Ksx2c-sLllb4kNW76nnTuD8/edit?usp=sharing)"
      ]
    },
    {
      "cell_type": "code",
      "metadata": {
        "id": "c09VlGrKWy-5",
        "colab_type": "code",
        "colab": {}
      },
      "source": [
        "!pip install --upgrade -q gspread"
      ],
      "execution_count": 0,
      "outputs": []
    },
    {
      "cell_type": "code",
      "metadata": {
        "id": "FZzd0oWTWy9W",
        "colab_type": "code",
        "outputId": "5945eab6-4407-49aa-af20-e3030fb14365",
        "colab": {
          "base_uri": "https://localhost:8080/",
          "height": 451
        }
      },
      "source": [
        "from google.colab import auth\n",
        "auth.authenticate_user()\n",
        "\n",
        "import gspread\n",
        "from oauth2client.client import GoogleCredentials\n",
        "\n",
        "gc = gspread.authorize(GoogleCredentials.get_application_default())\n",
        "\n",
        "worksheet = gc.open('global_superstore_2016').sheet1\n",
        "\n",
        "# get_all_values gives a list of rows.\n",
        "rows = worksheet.get_all_values()\n",
        "print(rows)\n",
        "\n",
        "# Convert to a DataFrame and render.\n",
        "import pandas as pd\n",
        "orders=pd.DataFrame(rows[1:], columns=rows[:1][0])\n",
        "\n",
        "# Transform time into timestamps\n",
        "for col in ['Order Date', 'Ship Date']:  \n",
        "  orders[col] = pd.to_datetime(orders[col])\n",
        "\n",
        "\n",
        "# Create Order Periods\n",
        "orders.insert(loc=3,\n",
        "              column='Order Period',\n",
        "              value=Orders['Order Date'].apply(lambda x: pd.Timestamp(x).strftime(\"%Y-%m\")))\n",
        "\n",
        "print(\"Cells: {0} \\nRows and Columns: {1}\".format(orders.size, orders.shape))\n",
        "orders.head(2)"
      ],
      "execution_count": 302,
      "outputs": [
        {
          "output_type": "stream",
          "text": [
            "IOPub data rate exceeded.\n",
            "The notebook server will temporarily stop sending output\n",
            "to the client in order to avoid crashing it.\n",
            "To change this limit, set the config variable\n",
            "`--NotebookApp.iopub_data_rate_limit`.\n",
            "\n",
            "Current values:\n",
            "NotebookApp.iopub_data_rate_limit=1000000.0 (bytes/sec)\n",
            "NotebookApp.rate_limit_window=3.0 (secs)\n",
            "\n"
          ],
          "name": "stderr"
        },
        {
          "output_type": "stream",
          "text": [
            "Cells: 1282250 \n",
            "Rows and Columns: (51290, 25)\n"
          ],
          "name": "stdout"
        },
        {
          "output_type": "execute_result",
          "data": {
            "text/html": [
              "<div>\n",
              "<style scoped>\n",
              "    .dataframe tbody tr th:only-of-type {\n",
              "        vertical-align: middle;\n",
              "    }\n",
              "\n",
              "    .dataframe tbody tr th {\n",
              "        vertical-align: top;\n",
              "    }\n",
              "\n",
              "    .dataframe thead th {\n",
              "        text-align: right;\n",
              "    }\n",
              "</style>\n",
              "<table border=\"1\" class=\"dataframe\">\n",
              "  <thead>\n",
              "    <tr style=\"text-align: right;\">\n",
              "      <th></th>\n",
              "      <th>Row ID</th>\n",
              "      <th>Order ID</th>\n",
              "      <th>Order Date</th>\n",
              "      <th>Order Period</th>\n",
              "      <th>Ship Date</th>\n",
              "      <th>Ship Mode</th>\n",
              "      <th>Customer ID</th>\n",
              "      <th>Customer Name</th>\n",
              "      <th>Segment</th>\n",
              "      <th>Postal Code</th>\n",
              "      <th>City</th>\n",
              "      <th>State</th>\n",
              "      <th>Country</th>\n",
              "      <th>Region</th>\n",
              "      <th>Market</th>\n",
              "      <th>Product ID</th>\n",
              "      <th>Category</th>\n",
              "      <th>Sub-Category</th>\n",
              "      <th>Product Name</th>\n",
              "      <th>Sales</th>\n",
              "      <th>Quantity</th>\n",
              "      <th>Discount</th>\n",
              "      <th>Profit</th>\n",
              "      <th>Shipping Cost</th>\n",
              "      <th>Order Priority</th>\n",
              "    </tr>\n",
              "  </thead>\n",
              "  <tbody>\n",
              "    <tr>\n",
              "      <th>0</th>\n",
              "      <td>40098</td>\n",
              "      <td>CA-2014-AB10015140-41954</td>\n",
              "      <td>2014-11-11</td>\n",
              "      <td>2014-11</td>\n",
              "      <td>2014-11-13</td>\n",
              "      <td>First Class</td>\n",
              "      <td>AB-100151402</td>\n",
              "      <td>Aaron Bergman</td>\n",
              "      <td>Consumer</td>\n",
              "      <td>73120</td>\n",
              "      <td>Oklahoma City</td>\n",
              "      <td>Oklahoma</td>\n",
              "      <td>United States</td>\n",
              "      <td>Central US</td>\n",
              "      <td>USCA</td>\n",
              "      <td>TEC-PH-5816</td>\n",
              "      <td>Technology</td>\n",
              "      <td>Phones</td>\n",
              "      <td>Samsung Convoy 3</td>\n",
              "      <td>$221.98</td>\n",
              "      <td>2</td>\n",
              "      <td>0</td>\n",
              "      <td>$62.15</td>\n",
              "      <td>40.77</td>\n",
              "      <td>High</td>\n",
              "    </tr>\n",
              "    <tr>\n",
              "      <th>1</th>\n",
              "      <td>26341</td>\n",
              "      <td>IN-2014-JR162107-41675</td>\n",
              "      <td>2014-02-05</td>\n",
              "      <td>2014-02</td>\n",
              "      <td>2014-02-07</td>\n",
              "      <td>Second Class</td>\n",
              "      <td>JR-162107</td>\n",
              "      <td>Justin Ritter</td>\n",
              "      <td>Corporate</td>\n",
              "      <td></td>\n",
              "      <td>Wollongong</td>\n",
              "      <td>New South Wales</td>\n",
              "      <td>Australia</td>\n",
              "      <td>Oceania</td>\n",
              "      <td>Asia Pacific</td>\n",
              "      <td>FUR-CH-5379</td>\n",
              "      <td>Furniture</td>\n",
              "      <td>Chairs</td>\n",
              "      <td>Novimex Executive Leather Armchair, Black</td>\n",
              "      <td>$3,709.40</td>\n",
              "      <td>9</td>\n",
              "      <td>0.1</td>\n",
              "      <td>-$288.77</td>\n",
              "      <td>923.63</td>\n",
              "      <td>Critical</td>\n",
              "    </tr>\n",
              "  </tbody>\n",
              "</table>\n",
              "</div>"
            ],
            "text/plain": [
              "  Row ID                  Order ID  ... Shipping Cost Order Priority\n",
              "0  40098  CA-2014-AB10015140-41954  ...         40.77           High\n",
              "1  26341    IN-2014-JR162107-41675  ...        923.63       Critical\n",
              "\n",
              "[2 rows x 25 columns]"
            ]
          },
          "metadata": {
            "tags": []
          },
          "execution_count": 302
        }
      ]
    },
    {
      "cell_type": "code",
      "metadata": {
        "id": "u8GxVVTBGTzc",
        "colab_type": "code",
        "colab": {
          "base_uri": "https://localhost:8080/",
          "height": 268
        },
        "outputId": "3efa98a8-6b9e-4bb3-f943-df24c1e2db6c"
      },
      "source": [
        "# Cohort groups based on user's first order\n",
        "orders.set_index('Customer ID', inplace=True)\n",
        "\n",
        "orders.insert(loc=1, \n",
        "  column='Cohort Group',\n",
        "  value=orders.groupby(level=0)['Order Date'].min() \\\n",
        "              .apply(lambda x: pd.Timestamp(x).strftime(\"%Y-%m\")))\n",
        "\n",
        "orders.head(2)\n",
        "# orders.reset_index(inplace=True) # moved to display table"
      ],
      "execution_count": 303,
      "outputs": [
        {
          "output_type": "execute_result",
          "data": {
            "text/html": [
              "<div>\n",
              "<style scoped>\n",
              "    .dataframe tbody tr th:only-of-type {\n",
              "        vertical-align: middle;\n",
              "    }\n",
              "\n",
              "    .dataframe tbody tr th {\n",
              "        vertical-align: top;\n",
              "    }\n",
              "\n",
              "    .dataframe thead th {\n",
              "        text-align: right;\n",
              "    }\n",
              "</style>\n",
              "<table border=\"1\" class=\"dataframe\">\n",
              "  <thead>\n",
              "    <tr style=\"text-align: right;\">\n",
              "      <th></th>\n",
              "      <th>Row ID</th>\n",
              "      <th>Cohort Group</th>\n",
              "      <th>Order ID</th>\n",
              "      <th>Order Date</th>\n",
              "      <th>Order Period</th>\n",
              "      <th>Ship Date</th>\n",
              "      <th>Ship Mode</th>\n",
              "      <th>Customer Name</th>\n",
              "      <th>Segment</th>\n",
              "      <th>Postal Code</th>\n",
              "      <th>City</th>\n",
              "      <th>State</th>\n",
              "      <th>Country</th>\n",
              "      <th>Region</th>\n",
              "      <th>Market</th>\n",
              "      <th>Product ID</th>\n",
              "      <th>Category</th>\n",
              "      <th>Sub-Category</th>\n",
              "      <th>Product Name</th>\n",
              "      <th>Sales</th>\n",
              "      <th>Quantity</th>\n",
              "      <th>Discount</th>\n",
              "      <th>Profit</th>\n",
              "      <th>Shipping Cost</th>\n",
              "      <th>Order Priority</th>\n",
              "    </tr>\n",
              "    <tr>\n",
              "      <th>Customer ID</th>\n",
              "      <th></th>\n",
              "      <th></th>\n",
              "      <th></th>\n",
              "      <th></th>\n",
              "      <th></th>\n",
              "      <th></th>\n",
              "      <th></th>\n",
              "      <th></th>\n",
              "      <th></th>\n",
              "      <th></th>\n",
              "      <th></th>\n",
              "      <th></th>\n",
              "      <th></th>\n",
              "      <th></th>\n",
              "      <th></th>\n",
              "      <th></th>\n",
              "      <th></th>\n",
              "      <th></th>\n",
              "      <th></th>\n",
              "      <th></th>\n",
              "      <th></th>\n",
              "      <th></th>\n",
              "      <th></th>\n",
              "      <th></th>\n",
              "      <th></th>\n",
              "    </tr>\n",
              "  </thead>\n",
              "  <tbody>\n",
              "    <tr>\n",
              "      <th>AB-100151402</th>\n",
              "      <td>40098</td>\n",
              "      <td>2012-02</td>\n",
              "      <td>CA-2014-AB10015140-41954</td>\n",
              "      <td>2014-11-11</td>\n",
              "      <td>2014-11</td>\n",
              "      <td>2014-11-13</td>\n",
              "      <td>First Class</td>\n",
              "      <td>Aaron Bergman</td>\n",
              "      <td>Consumer</td>\n",
              "      <td>73120</td>\n",
              "      <td>Oklahoma City</td>\n",
              "      <td>Oklahoma</td>\n",
              "      <td>United States</td>\n",
              "      <td>Central US</td>\n",
              "      <td>USCA</td>\n",
              "      <td>TEC-PH-5816</td>\n",
              "      <td>Technology</td>\n",
              "      <td>Phones</td>\n",
              "      <td>Samsung Convoy 3</td>\n",
              "      <td>$221.98</td>\n",
              "      <td>2</td>\n",
              "      <td>0</td>\n",
              "      <td>$62.15</td>\n",
              "      <td>40.77</td>\n",
              "      <td>High</td>\n",
              "    </tr>\n",
              "    <tr>\n",
              "      <th>JR-162107</th>\n",
              "      <td>26341</td>\n",
              "      <td>2014-02</td>\n",
              "      <td>IN-2014-JR162107-41675</td>\n",
              "      <td>2014-02-05</td>\n",
              "      <td>2014-02</td>\n",
              "      <td>2014-02-07</td>\n",
              "      <td>Second Class</td>\n",
              "      <td>Justin Ritter</td>\n",
              "      <td>Corporate</td>\n",
              "      <td></td>\n",
              "      <td>Wollongong</td>\n",
              "      <td>New South Wales</td>\n",
              "      <td>Australia</td>\n",
              "      <td>Oceania</td>\n",
              "      <td>Asia Pacific</td>\n",
              "      <td>FUR-CH-5379</td>\n",
              "      <td>Furniture</td>\n",
              "      <td>Chairs</td>\n",
              "      <td>Novimex Executive Leather Armchair, Black</td>\n",
              "      <td>$3,709.40</td>\n",
              "      <td>9</td>\n",
              "      <td>0.1</td>\n",
              "      <td>-$288.77</td>\n",
              "      <td>923.63</td>\n",
              "      <td>Critical</td>\n",
              "    </tr>\n",
              "  </tbody>\n",
              "</table>\n",
              "</div>"
            ],
            "text/plain": [
              "             Row ID Cohort Group  ... Shipping Cost Order Priority\n",
              "Customer ID                       ...                             \n",
              "AB-100151402  40098      2012-02  ...         40.77           High\n",
              "JR-162107     26341      2014-02  ...        923.63       Critical\n",
              "\n",
              "[2 rows x 25 columns]"
            ]
          },
          "metadata": {
            "tags": []
          },
          "execution_count": 303
        }
      ]
    },
    {
      "cell_type": "code",
      "metadata": {
        "id": "9CZdXC_z0_bi",
        "colab_type": "code",
        "colab": {}
      },
      "source": [
        "orders.reset_index(inplace=True) # display table with index and remove"
      ],
      "execution_count": 0,
      "outputs": []
    },
    {
      "cell_type": "code",
      "metadata": {
        "id": "M5SIEyjDVMGQ",
        "colab_type": "code",
        "colab": {
          "base_uri": "https://localhost:8080/",
          "height": 143
        },
        "outputId": "cb9640dd-764a-488f-d2d8-b66e2545d418"
      },
      "source": [
        "# Aggregate users, orders, amounts spent \n",
        "import numpy as np\n",
        "# Group by CohortGroup & OrderPeriod\n",
        "grouped = orders.groupby(['Cohort Group', 'Order Period'])\n",
        "\n",
        "# convert Sales to numeric from currency\n",
        "orders['Sales'] = pd.to_numeric(orders['Sales'] \\\n",
        "                                .replace('[\\$,)]', '', regex=True),\n",
        "                                 downcast='float')\n",
        "\n",
        "# count unique users, orders and total revenue per Group & Period\n",
        "cohorts = grouped.agg({'Customer ID': pd.Series.nunique,\n",
        "                        'Order ID': pd.Series.nunique,\n",
        "                        'Sales': np.sum})\n",
        "\n",
        "# name column\n",
        "cohorts.rename(columns={'Customer ID': \"Total Users\",\n",
        "                        'Order ID': \"Total Orders\"}, inplace=True)\n",
        "\n",
        "cohorts.head(2)"
      ],
      "execution_count": 305,
      "outputs": [
        {
          "output_type": "execute_result",
          "data": {
            "text/html": [
              "<div>\n",
              "<style scoped>\n",
              "    .dataframe tbody tr th:only-of-type {\n",
              "        vertical-align: middle;\n",
              "    }\n",
              "\n",
              "    .dataframe tbody tr th {\n",
              "        vertical-align: top;\n",
              "    }\n",
              "\n",
              "    .dataframe thead th {\n",
              "        text-align: right;\n",
              "    }\n",
              "</style>\n",
              "<table border=\"1\" class=\"dataframe\">\n",
              "  <thead>\n",
              "    <tr style=\"text-align: right;\">\n",
              "      <th></th>\n",
              "      <th></th>\n",
              "      <th>Total Users</th>\n",
              "      <th>Total Orders</th>\n",
              "      <th>Sales</th>\n",
              "    </tr>\n",
              "    <tr>\n",
              "      <th>Cohort Group</th>\n",
              "      <th>Order Period</th>\n",
              "      <th></th>\n",
              "      <th></th>\n",
              "      <th></th>\n",
              "    </tr>\n",
              "  </thead>\n",
              "  <tbody>\n",
              "    <tr>\n",
              "      <th rowspan=\"2\" valign=\"top\">2012-01</th>\n",
              "      <th>2012-01</th>\n",
              "      <td>215</td>\n",
              "      <td>216</td>\n",
              "      <td>98898.531250</td>\n",
              "    </tr>\n",
              "    <tr>\n",
              "      <th>2012-03</th>\n",
              "      <td>1</td>\n",
              "      <td>1</td>\n",
              "      <td>212.519989</td>\n",
              "    </tr>\n",
              "  </tbody>\n",
              "</table>\n",
              "</div>"
            ],
            "text/plain": [
              "                           Total Users  Total Orders         Sales\n",
              "Cohort Group Order Period                                         \n",
              "2012-01      2012-01               215           216  98898.531250\n",
              "             2012-03                 1             1    212.519989"
            ]
          },
          "metadata": {
            "tags": []
          },
          "execution_count": 305
        }
      ]
    },
    {
      "cell_type": "code",
      "metadata": {
        "id": "7Dv5APcYsWkF",
        "colab_type": "code",
        "colab": {
          "base_uri": "https://localhost:8080/",
          "height": 238
        },
        "outputId": "c574b680-a3ac-4c20-d551-cf4758ec0c40"
      },
      "source": [
        "# Label Cohort Period for each CohortGroup with a helper function\n",
        "def cohort_period(df, cohort_group):\n",
        "  \"\"\"\n",
        "  Create a Cohort Period column, as Nth period of first purchase\n",
        "  -------\n",
        "  Example: To get 3rd month per user; \n",
        "  df.sort(['Customer ID', 'Order Date'], inplace=True)\n",
        "  df = df.groupby('Customer ID').apply(cohort_period)\n",
        "  df[df['Cohort Period'] == 3]\n",
        "  -------\n",
        "  \"\"\"\n",
        "  df[cohort_group] = np.arange(len(df)) + 1\n",
        "  return df\n",
        "\n",
        "cohorts = cohorts.groupby(level=0).apply(cohort_period, 'Order Period')\n",
        "\n",
        "cohorts.head()"
      ],
      "execution_count": 307,
      "outputs": [
        {
          "output_type": "execute_result",
          "data": {
            "text/html": [
              "<div>\n",
              "<style scoped>\n",
              "    .dataframe tbody tr th:only-of-type {\n",
              "        vertical-align: middle;\n",
              "    }\n",
              "\n",
              "    .dataframe tbody tr th {\n",
              "        vertical-align: top;\n",
              "    }\n",
              "\n",
              "    .dataframe thead th {\n",
              "        text-align: right;\n",
              "    }\n",
              "</style>\n",
              "<table border=\"1\" class=\"dataframe\">\n",
              "  <thead>\n",
              "    <tr style=\"text-align: right;\">\n",
              "      <th></th>\n",
              "      <th></th>\n",
              "      <th>Total Users</th>\n",
              "      <th>Total Orders</th>\n",
              "      <th>Sales</th>\n",
              "      <th>Order Period</th>\n",
              "    </tr>\n",
              "    <tr>\n",
              "      <th>Cohort Group</th>\n",
              "      <th>Order Period</th>\n",
              "      <th></th>\n",
              "      <th></th>\n",
              "      <th></th>\n",
              "      <th></th>\n",
              "    </tr>\n",
              "  </thead>\n",
              "  <tbody>\n",
              "    <tr>\n",
              "      <th rowspan=\"5\" valign=\"top\">2012-01</th>\n",
              "      <th>2012-01</th>\n",
              "      <td>215</td>\n",
              "      <td>216</td>\n",
              "      <td>98898.531250</td>\n",
              "      <td>1</td>\n",
              "    </tr>\n",
              "    <tr>\n",
              "      <th>2012-03</th>\n",
              "      <td>1</td>\n",
              "      <td>1</td>\n",
              "      <td>212.519989</td>\n",
              "      <td>2</td>\n",
              "    </tr>\n",
              "    <tr>\n",
              "      <th>2012-04</th>\n",
              "      <td>3</td>\n",
              "      <td>3</td>\n",
              "      <td>1573.470093</td>\n",
              "      <td>3</td>\n",
              "    </tr>\n",
              "    <tr>\n",
              "      <th>2012-05</th>\n",
              "      <td>2</td>\n",
              "      <td>2</td>\n",
              "      <td>1962.780029</td>\n",
              "      <td>4</td>\n",
              "    </tr>\n",
              "    <tr>\n",
              "      <th>2012-06</th>\n",
              "      <td>4</td>\n",
              "      <td>4</td>\n",
              "      <td>2493.419922</td>\n",
              "      <td>5</td>\n",
              "    </tr>\n",
              "  </tbody>\n",
              "</table>\n",
              "</div>"
            ],
            "text/plain": [
              "                           Total Users  ...  Order Period\n",
              "Cohort Group Order Period               ...              \n",
              "2012-01      2012-01               215  ...             1\n",
              "             2012-03                 1  ...             2\n",
              "             2012-04                 3  ...             3\n",
              "             2012-05                 2  ...             4\n",
              "             2012-06                 4  ...             5\n",
              "\n",
              "[5 rows x 4 columns]"
            ]
          },
          "metadata": {
            "tags": []
          },
          "execution_count": 307
        }
      ]
    },
    {
      "cell_type": "code",
      "metadata": {
        "id": "I5W6la8s6GSZ",
        "colab_type": "code",
        "colab": {}
      },
      "source": [
        "# Error testing of data points to corresponding order values in new cohorts\n",
        "x = orders[(orders['Cohort Group'] == '2014-01') \\\n",
        "           & (orders['Order Period'] == '2014-01')]\n",
        "y = cohorts.loc[['2014-01', '2014-01']]\n",
        "\n",
        "assert((x['Customer ID'].nunique() == y['Total Users']).any())\n",
        "assert((x['Sales'].sum().round(2) == y['Sales'].round(2)).any())\n",
        "assert((x['Order ID'].nunique() == y['Total Orders']).any())\n",
        "\n",
        "x = orders[(orders['Cohort Group'] == '2015-01') \\\n",
        "          & (orders['Order Period'] == '2015-09')]\n",
        "y = cohorts.loc[['2015-01', '2015-09']]\n",
        "\n",
        "assert((x['Customer ID'].nunique() == y['Total Users']).any())\n",
        "assert((x['Sales'].sum().round(2) == y['Sales'].round(2)).any())\n",
        "assert((x['Order ID'].nunique() == y['Total Orders']).any())\n",
        "\n",
        "x = orders[(orders['Cohort Group'] == '2015-05') \\\n",
        "          & (orders['Order Period'] == '2015-09')]\n",
        "y = cohorts.loc[['2015-05', '2015-09']]\n",
        "\n",
        "assert((x['Customer ID'].nunique() == y['Total Orders']).any())\n",
        "assert((x['Sales'].sum().round(2) == y['Sales'].round(2)).any())\n",
        "assert((x['Order ID'].nunique() == y['Total Orders']).any())"
      ],
      "execution_count": 0,
      "outputs": []
    },
    {
      "cell_type": "markdown",
      "metadata": {
        "id": "wqj9vqLya_am",
        "colab_type": "text"
      },
      "source": [
        "# Visualization of Cohort groups with high sales"
      ]
    },
    {
      "cell_type": "code",
      "metadata": {
        "id": "mi04gvJM9LiU",
        "colab_type": "code",
        "colab": {
          "base_uri": "https://localhost:8080/",
          "height": 890
        },
        "outputId": "b9baf2b3-da64-4833-b2b4-907f2bd6a36a"
      },
      "source": [
        "# View sales by cohort\n",
        "import seaborn as sns\n",
        "import matplotlib.pyplot as plt\n",
        "sns.set(style=\"whitegrid\")\n",
        "\n",
        "f, ax = plt.subplots(figsize=(6, 15))\n",
        "plt_ords = orders.sort_values('Cohort Group', ascending=False)\n",
        "sns.set_color_codes(\"pastel\")\n",
        "sales = cohorts['Sales'].get_values()\n",
        "sns.barplot(x=sales, y=plt_ords['Cohort Group'], \n",
        "            data = plt_ords, color=\"b\")"
      ],
      "execution_count": 310,
      "outputs": [
        {
          "output_type": "execute_result",
          "data": {
            "text/plain": [
              "<matplotlib.axes._subplots.AxesSubplot at 0x7f93cd5fc4e0>"
            ]
          },
          "metadata": {
            "tags": []
          },
          "execution_count": 310
        },
        {
          "output_type": "display_data",
          "data": {
            "image/png": "[encoded data removed]",
            "text/plain": [
              "<Figure size 432x1080 with 1 Axes>"
            ]
          },
          "metadata": {
            "tags": []
          }
        }
      ]
    }
  ]
}